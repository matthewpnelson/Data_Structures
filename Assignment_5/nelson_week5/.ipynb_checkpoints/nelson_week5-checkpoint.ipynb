{
 "cells": [
  {
   "cell_type": "markdown",
   "metadata": {},
   "source": [
    "1. Graph Analysis\n",
    "\n",
    "Write a script that can accept an adjacency matrix as input, and construct a node-based representation of a graph.  \n",
    "\n",
    "Next, write a method that takes two nodes as arguments, n1 and n2, and returns the number of nodes that are equidistant from n1 and n2.  These are the nodes for which the shortest paths to n1 and n2 have the same length.  Hint: run two breadth-first searches, one from n1 and one from n2.\n",
    "\n",
    "\n",
    "Submission \n",
    "Submit your program as “graph.py”. Your program needs to read data from two files:\n",
    "1. File adj.txt contains an adjacency matrix representing a graph.  Node 0 is represented by the first column and the first town, node 1 by the second column and the second row, and so forth.\n",
    "2. File input.txt contains a list of pairs of nodes.  Each line contains one pair, the number of the first node and the number of the second node, separated by a space.\n",
    "In the main method of your script, read these files and generate an “output.txt” file, in which the number of nodes equidistant to each pair are listed accordingly. We have attached examples of files for you to test your code before submission. Since your program may be tested using an auto-grader system, your code must replicate the given output.txt file exactly. In addition, please follow best coding practices to make your code easy to understand. \n"
   ]
  },
  {
   "cell_type": "code",
   "execution_count": 61,
   "metadata": {
    "collapsed": false
   },
   "outputs": [],
   "source": [
    "import string\n",
    "\n",
    "from queue import Queue \n",
    "\n",
    "def read_adj(input_file):\n",
    "    with open(input_file, 'rt') as f_in:\n",
    "        matrix = []\n",
    "        for line in f_in.readlines():\n",
    "            #print(line.strip(\"  \"))\n",
    "            line_dig = []\n",
    "            for i in line:\n",
    "                if i == \"0\" or i == \"1\":\n",
    "                    line_dig.append(int(i))\n",
    "            matrix.append(line_dig)\n",
    "    return matrix\n",
    "\n",
    "\n",
    "class GraphNode:\n",
    "    \"\"\"A node for an undirected linked graph, adapted from lecture notes / Goodrich textbook.\"\"\"\n",
    "    \n",
    "    def __init__(self, name, value=None):\n",
    "        self.value = value\n",
    "        self.name = name\n",
    "        self.connections = []\n",
    "        self.connection_names = []\n",
    "    \n",
    "    def add_connections(self,other):\n",
    "        if other not in self.connections:\n",
    "            self.connections.append(other)\n",
    "            self.connection_names.append(other.name)\n",
    "        if self not in other.connections:\n",
    "            other.connections.append(self)\n",
    "            other.connection_names.append(self.name)\n",
    "    \n",
    "    def get_connections(self):\n",
    "        return self.connections\n",
    "    \n",
    "    def get_connection_names(self):\n",
    "        print(\"Current Node Name:\", self.name)\n",
    "        return self.connection_names\n",
    "\n",
    "def graph(matrix):\n",
    "    \"\"\"Populate a graph from an adjacency matrix. \n",
    "    \n",
    "    Create nodes and add connections and connection names based \n",
    "    on an adjacency matrix input (an array list)\n",
    "    \"\"\"\n",
    "    \n",
    "    # Create nodes\n",
    "    node_list = []\n",
    "    i=1\n",
    "    while i <= len(matrix[0]):\n",
    "        name = \"Node\" + str(i)\n",
    "        node_list.append(GraphNode(name))\n",
    "        i += 1\n",
    "    \n",
    "    #add connections and connection names based on an adjacency matrix input (an array list)\n",
    "    current_row_node_index = 0\n",
    "    for row in matrix:\n",
    "        current_column_node_index = 0\n",
    "        for column in row:\n",
    "            if column == 1:\n",
    "                node_list[current_column_node_index].add_connections(node_list[current_row_node_index])\n",
    "            current_column_node_index += 1\n",
    "        current_row_node_index += 1\n",
    "    \n",
    "    return node_list\n",
    "\n",
    "def breadth_first_traverse(node_object):\n",
    "    \"\"\"Traverse a tree, breadth first. Adapted from lecture notes.\"\"\"\n",
    "    \n",
    "    Q = Queue()\n",
    "    Q.put(node_object)\n",
    "    already_pulled = []\n",
    "    path_count = [[node_object]] #array with indexes indicating the objects with index number of steps to the node_object\n",
    "    \n",
    "    while not Q.empty():\n",
    "        v = Q.get()\n",
    "        \n",
    "        if v in already_pulled:\n",
    "            continue\n",
    "                \n",
    "        already_pulled.append(v)\n",
    "        path_count_connection_index = 0\n",
    "        for connections in v.get_connections():\n",
    "            \n",
    "            # verify the node has not already been removed from the stack or passed through\n",
    "            if connections not in already_pulled:\n",
    "                Q.put(connections)\n",
    "\n",
    "                # calculate the correct index to place the connections into\n",
    "                for sublist in path_count:\n",
    "                    #print(sublist)\n",
    "                    if v in sublist:\n",
    "                        path_count_connection_index = path_count.index(sublist) + 1\n",
    "                              \n",
    "                    # add connections to the correct path_count via calculated index (ie. \n",
    "                try:\n",
    "                    i = 0\n",
    "                    while i < len(path_count):\n",
    "                        if connections in path_count[i]:\n",
    "                            break\n",
    "                        i += 1\n",
    "                    else:\n",
    "                        path_count[path_count_connection_index].append(connections)\n",
    "                    continue    \n",
    "\n",
    "                except:\n",
    "                    path_count.append([])\n",
    "                    path_count[path_count_connection_index].append(connections)\n",
    "\n",
    "    return path_count\n",
    "\n",
    "def breadth_first_traverse_names(node_object):\n",
    "    \"\"\"Traverse a tree, breadth first. Adapted from lecture notes.\"\"\"\n",
    "    \n",
    "    Q = Queue()\n",
    "    Q.put(node_object)\n",
    "    already_pulled = []\n",
    "    path_count = [[node_object.name]] #array with indexes indicating the objects with index number of steps to the node_object\n",
    "    \n",
    "    while not Q.empty():\n",
    "        v = Q.get()\n",
    "        \n",
    "        if v in already_pulled:\n",
    "            continue\n",
    "                \n",
    "        already_pulled.append(v)\n",
    "        path_count_connection_index = 0\n",
    "        for connections in v.get_connections():\n",
    "            \n",
    "            # verify the node has not already been removed from the stack or passed through\n",
    "            if connections not in already_pulled:\n",
    "                Q.put(connections)\n",
    "\n",
    "                # calculate the correct index to place the connections into\n",
    "                for sublist in path_count:\n",
    "                    #print(sublist)\n",
    "                    if v.name in sublist:\n",
    "                        path_count_connection_index = path_count.index(sublist) + 1\n",
    "                              \n",
    "                    # add connections to the correct path_count via calculated index (ie. \n",
    "                try:\n",
    "                    i = 0\n",
    "                    while i < len(path_count):\n",
    "                        if connections.name in path_count[i]:\n",
    "                            break\n",
    "                        i += 1\n",
    "                    else:\n",
    "                        path_count[path_count_connection_index].append(connections.name)\n",
    "                    continue    \n",
    "\n",
    "                except:\n",
    "                    path_count.append([])\n",
    "                    path_count[path_count_connection_index].append(connections.name)\n",
    "\n",
    "    return path_count\n",
    "\n",
    "def equidistant(n1,n2, node_list): #Nodes should be entered as numbers\n",
    "    \n",
    "    n1_index = int(n1)\n",
    "    n2_index = int(n2)\n",
    "    \n",
    "    n1_distances = breadth_first_traverse(node_list[n1_index])\n",
    "    n2_distances = breadth_first_traverse(node_list[n2_index])\n",
    "    \n",
    "    equidistant_nodes = []\n",
    "    i = 0\n",
    "    while i < len(n1_distances):\n",
    "        for each in n1_distances[i]:\n",
    "            try:\n",
    "                if each in n2_distances[i]:\n",
    "                    equidistant_nodes.append(each)\n",
    "            except:\n",
    "                break\n",
    "        i += 1\n",
    "    return equidistant_nodes\n",
    "            \n",
    "        \n",
    "            \n"
   ]
  },
  {
   "cell_type": "code",
   "execution_count": 62,
   "metadata": {
    "collapsed": false
   },
   "outputs": [],
   "source": [
    "matrix = read_adj(\"graph_example_files/adj.txt\")\n",
    "node_list = graph(matrix)\n",
    "\n",
    "with open(\"graph_example_files/input.txt\", 'rt') as f_in:\n",
    "    out = \"\"\n",
    "    for r in f_in.readlines():\n",
    "        r = r.strip(\"\\n\")\n",
    "        out += str(len(equidistant(int(r[0]),int(r[2]),node_list))) + \"\\n\" \n",
    "\n",
    "with open('graph_example_files/matt_output.txt', 'wt') as f_out:\n",
    "    f_out.write(out)"
   ]
  },
  {
   "cell_type": "code",
   "execution_count": 45,
   "metadata": {
    "collapsed": false
   },
   "outputs": [
    {
     "name": "stdout",
     "output_type": "stream",
     "text": [
      "Current Node Name: Node2\n"
     ]
    },
    {
     "data": {
      "text/plain": [
       "['Node4', 'Node5', 'Node18', 'Node23', 'Node24', 'Node25']"
      ]
     },
     "execution_count": 45,
     "metadata": {},
     "output_type": "execute_result"
    }
   ],
   "source": [
    "matrix = read_adj(\"graph_example_files/adj.txt\")\n",
    "node_list = graph(matrix)\n",
    "node_list[1].get_connection_names()\n"
   ]
  },
  {
   "cell_type": "code",
   "execution_count": 46,
   "metadata": {
    "collapsed": false
   },
   "outputs": [
    {
     "data": {
      "text/plain": [
       "[<__main__.GraphNode at 0x2742d3afe48>,\n",
       " <__main__.GraphNode at 0x2742d3affd0>,\n",
       " <__main__.GraphNode at 0x2742d3aff28>,\n",
       " <__main__.GraphNode at 0x2742d31bf60>,\n",
       " <__main__.GraphNode at 0x2742d31b630>,\n",
       " <__main__.GraphNode at 0x2742d31bb00>,\n",
       " <__main__.GraphNode at 0x2742d31b748>,\n",
       " <__main__.GraphNode at 0x2742d339748>,\n",
       " <__main__.GraphNode at 0x2742d3397b8>,\n",
       " <__main__.GraphNode at 0x2742d3395c0>,\n",
       " <__main__.GraphNode at 0x2742d339128>,\n",
       " <__main__.GraphNode at 0x2742d3394e0>]"
      ]
     },
     "execution_count": 46,
     "metadata": {},
     "output_type": "execute_result"
    }
   ],
   "source": [
    "node_list[0].get_connections()\n",
    "#node_list[1].get_connection_names()"
   ]
  },
  {
   "cell_type": "code",
   "execution_count": 47,
   "metadata": {
    "collapsed": false
   },
   "outputs": [
    {
     "data": {
      "text/plain": [
       "[[<__main__.GraphNode at 0x2742d3afda0>],\n",
       " [<__main__.GraphNode at 0x2742d31bfd0>,\n",
       "  <__main__.GraphNode at 0x2742d3398d0>],\n",
       " [<__main__.GraphNode at 0x2742d3affd0>,\n",
       "  <__main__.GraphNode at 0x2742d3aff28>,\n",
       "  <__main__.GraphNode at 0x2742d31bf60>,\n",
       "  <__main__.GraphNode at 0x2742d31ba58>,\n",
       "  <__main__.GraphNode at 0x2742d31b9e8>,\n",
       "  <__main__.GraphNode at 0x2742d31b6a0>,\n",
       "  <__main__.GraphNode at 0x2742d31bb00>,\n",
       "  <__main__.GraphNode at 0x2742d339748>,\n",
       "  <__main__.GraphNode at 0x2742d339128>,\n",
       "  <__main__.GraphNode at 0x2742d3afdd8>,\n",
       "  <__main__.GraphNode at 0x2742d31b630>,\n",
       "  <__main__.GraphNode at 0x2742d31bf98>,\n",
       "  <__main__.GraphNode at 0x2742d339d68>],\n",
       " [<__main__.GraphNode at 0x2742d3afc88>,\n",
       "  <__main__.GraphNode at 0x2742d3397b8>,\n",
       "  <__main__.GraphNode at 0x2742d3395c0>,\n",
       "  <__main__.GraphNode at 0x2742d3aff98>,\n",
       "  <__main__.GraphNode at 0x2742d339278>,\n",
       "  <__main__.GraphNode at 0x2742d3afe48>,\n",
       "  <__main__.GraphNode at 0x2742d31b748>,\n",
       "  <__main__.GraphNode at 0x2742d3394e0>,\n",
       "  <__main__.GraphNode at 0x2742d31b860>]]"
      ]
     },
     "execution_count": 47,
     "metadata": {},
     "output_type": "execute_result"
    }
   ],
   "source": [
    "path_count = breadth_first_traverse(node_list[2])\n",
    "path_count"
   ]
  },
  {
   "cell_type": "code",
   "execution_count": null,
   "metadata": {
    "collapsed": true
   },
   "outputs": [],
   "source": []
  },
  {
   "cell_type": "code",
   "execution_count": 48,
   "metadata": {
    "collapsed": false
   },
   "outputs": [
    {
     "name": "stdout",
     "output_type": "stream",
     "text": [
      "11\n",
      "12\n",
      "13\n"
     ]
    }
   ],
   "source": [
    "# Test, Works!\n",
    "print(len(equidistant(0,1,node_list)))\n",
    "print(len(equidistant(0,5,node_list)))\n",
    "print(len(equidistant(1,8,node_list)))"
   ]
  },
  {
   "cell_type": "code",
   "execution_count": 5,
   "metadata": {
    "collapsed": false
   },
   "outputs": [
    {
     "name": "stdout",
     "output_type": "stream",
     "text": [
      "2\n"
     ]
    }
   ],
   "source": []
  },
  {
   "cell_type": "code",
   "execution_count": 6,
   "metadata": {
    "collapsed": false
   },
   "outputs": [
    {
     "data": {
      "text/plain": [
       "[['Node2'],\n",
       " ['Node4', 'Node5', 'Node18', 'Node23', 'Node24', 'Node25'],\n",
       " ['Node1',\n",
       "  'Node6',\n",
       "  'Node9',\n",
       "  'Node10',\n",
       "  'Node12',\n",
       "  'Node16',\n",
       "  'Node21',\n",
       "  'Node22',\n",
       "  'Node7',\n",
       "  'Node8',\n",
       "  'Node13',\n",
       "  'Node19',\n",
       "  'Node20',\n",
       "  'Node3',\n",
       "  'Node11',\n",
       "  'Node15',\n",
       "  'Node17'],\n",
       " ['Node14']]"
      ]
     },
     "execution_count": 6,
     "metadata": {},
     "output_type": "execute_result"
    }
   ],
   "source": []
  },
  {
   "cell_type": "code",
   "execution_count": null,
   "metadata": {
    "collapsed": true
   },
   "outputs": [],
   "source": []
  }
 ],
 "metadata": {
  "kernelspec": {
   "display_name": "Python 3",
   "language": "python",
   "name": "python3"
  },
  "language_info": {
   "codemirror_mode": {
    "name": "ipython",
    "version": 3
   },
   "file_extension": ".py",
   "mimetype": "text/x-python",
   "name": "python",
   "nbconvert_exporter": "python",
   "pygments_lexer": "ipython3",
   "version": "3.5.1"
  }
 },
 "nbformat": 4,
 "nbformat_minor": 0
}
