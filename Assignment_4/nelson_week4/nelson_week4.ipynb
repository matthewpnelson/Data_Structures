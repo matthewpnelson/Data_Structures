{
 "cells": [
  {
   "cell_type": "code",
   "execution_count": 80,
   "metadata": {
    "collapsed": false
   },
   "outputs": [],
   "source": [
    "import operator\n",
    "import decimal\n",
    "import string\n",
    "\n",
    "d = decimal.Decimal\n",
    "\n",
    "class ArrayStack:\n",
    "    \"\"\"LIFO Stack implementation using a Python list as underlying storage.\"\"\"\n",
    "\n",
    "    def __init__(self):\n",
    "        self._data = []                 # nonpublic list instance\n",
    "\n",
    "    def len(self):\n",
    "        \"\"\"Return the number of elements in the stack.\"\"\"\n",
    "        return len(self._data)\n",
    "\n",
    "    def is_empty(self):\n",
    "        \"\"\"Return True if the stack is empty.\"\"\"\n",
    "        return len(self._data) == 0\n",
    "\n",
    "    def push(self,e):\n",
    "        \"\"\"Add element e to the top of the stack.\"\"\"\n",
    "        self._data.append(e)            # new item stored at end of list\n",
    "\n",
    "    def top(self):\n",
    "        \"\"\"Return (but do not remove) the element at the top of the stack.\n",
    "           Raise Empty exception if the stack is empty.\n",
    "        \"\"\"\n",
    "\n",
    "        if self.is_empty():\n",
    "            raise Empty('Stack is empty')\n",
    "        return self._data[-1]           # the last item in the list\n",
    "\n",
    "    def pop(self):\n",
    "        \"\"\"Remove and return the element from the top of the stack (i.e., LIFO).\n",
    "           Raise Empty exception if the stack is empty.\n",
    "        \"\"\"\n",
    "        if self.is_empty():\n",
    "            raise Empty('Stack is empty')\n",
    "        return self._data.pop()         # remove last item from list\n",
    "\n",
    "\n",
    "class Empty(Exception):\n",
    "    \"\"\"Error attempting to access an element from an empty container.\"\"\"\n",
    "    pass\n"
   ]
  },
  {
   "cell_type": "code",
   "execution_count": 64,
   "metadata": {
    "collapsed": false
   },
   "outputs": [],
   "source": [
    "test1 = \"5 2 + 8 3 - * 4 / \"\n",
    "test2 = \"4 2 8 / 5 2 + 2 * - + \"\n",
    "test3 = \"2 2 8 4 5 / 6 * * 3 4 / 5 * + + 5 - 2 * 10 + +\"\n"
   ]
  },
  {
   "cell_type": "code",
   "execution_count": 209,
   "metadata": {
    "collapsed": false
   },
   "outputs": [],
   "source": [
    "def postfix(filename):\n",
    "    \"\"\"Opens a .txt file with postfix notation, evaluates each line, and writes to a file named 'output.txt'.\"\"\"\n",
    "    with open(filename, 'rt') as f_in:  \n",
    "        out = \"\"\n",
    "        for r in f_in.readlines():\n",
    "            r = r.strip(\"\\n\")\n",
    "            out += str(eval_postfix(convert(r))) + \"\\n\" \n",
    "    with open('postfix_example_files/matt_output.txt', 'wt') as f_out:\n",
    "        f_out.write(out)"
   ]
  },
  {
   "cell_type": "code",
   "execution_count": 210,
   "metadata": {
    "collapsed": false
   },
   "outputs": [],
   "source": [
    "postfix(\"postfix_example_files/input.txt\")"
   ]
  },
  {
   "cell_type": "code",
   "execution_count": 55,
   "metadata": {
    "collapsed": false
   },
   "outputs": [],
   "source": [
    "def convert(test):\n",
    "    \"\"\"Takes an input postfix expression and splits it into individual characters, while reversing \n",
    "    its order in an array stack\n",
    "    \"\"\"\n",
    "    \n",
    "    test2 = test.split()\n",
    "    stack_out = ArrayStack()\n",
    "    \n",
    "    #reverse the order of operations from the input file so the first number is at the top of the stack\n",
    "    i = len(test2)-1\n",
    "    while i >= 0:\n",
    "        stack_out.push(test2[i])\n",
    "        i -= 1\n",
    "    return stack_out\n"
   ]
  },
  {
   "cell_type": "code",
   "execution_count": 54,
   "metadata": {
    "collapsed": false
   },
   "outputs": [
    {
     "data": {
      "text/plain": [
       "'5'"
      ]
     },
     "execution_count": 54,
     "metadata": {},
     "output_type": "execute_result"
    }
   ],
   "source": [
    "# Test Convert. Good.\n",
    "no1 = convert(test1)\n",
    "no1.top()\n",
    "\n"
   ]
  },
  {
   "cell_type": "code",
   "execution_count": 183,
   "metadata": {
    "collapsed": false
   },
   "outputs": [
    {
     "name": "stdout",
     "output_type": "stream",
     "text": [
      "8.75\n",
      "-9.75\n",
      "90.30\n"
     ]
    }
   ],
   "source": [
    "print(eval_postfix(convert(test1)))\n",
    "print(eval_postfix(convert(test2)))\n",
    "print(eval_postfix(convert(test3)))"
   ]
  },
  {
   "cell_type": "code",
   "execution_count": 129,
   "metadata": {
    "collapsed": false
   },
   "outputs": [],
   "source": [
    "def eval_postfix(stack):\n",
    "    current = []\n",
    "    nums = []\n",
    "    op = ''\n",
    "    stack_results = ArrayStack()\n",
    "\n",
    "\n",
    "    while not stack.is_empty():\n",
    "        current = stack.pop()\n",
    "\n",
    "\n",
    "        #select first numbers up to the first operator in the stack\n",
    "        if current not in [\"+\",\"-\",\"*\",\"/\"]:\n",
    "\n",
    "            try:\n",
    "                stack_results.push((int(current)))\n",
    "                continue\n",
    "            except:\n",
    "                raise Exception('The input file included non integers or allowable operators \"+\",\"-\",\"*\",\"/\" ')\n",
    "\n",
    "        else:\n",
    "            op = current\n",
    "\n",
    "\n",
    "        stack_results2 = stack_results.pop()\n",
    "        stack_results1 = stack_results.pop()\n",
    "        if op == \"+\":\n",
    "            stack_results.push(d(operator.add(stack_results1, stack_results2)))\n",
    "        elif op == \"-\":\n",
    "            stack_results.push(d(operator.sub(stack_results1, stack_results2)))\n",
    "        elif op == \"*\":\n",
    "            stack_results.push(d(operator.mul(stack_results1, stack_results2)))\n",
    "        elif op == \"/\":\n",
    "            stack_results.push(d(operator.truediv(stack_results1, stack_results2)))\n",
    "\n",
    " \n",
    "    else:\n",
    "        pass\n",
    "\n",
    "    return round(stack_results.top(), 2)\n"
   ]
  },
  {
   "cell_type": "code",
   "execution_count": null,
   "metadata": {
    "collapsed": false
   },
   "outputs": [],
   "source": [
    "no1 = convert(test)\n",
    "print(type(no1.pop()))\n",
    "print(type(no1.pop()))\n",
    "print(type(no1.pop()))\n",
    "print(type(no1.pop()))\n",
    "print(type(no1.pop()))"
   ]
  },
  {
   "cell_type": "code",
   "execution_count": null,
   "metadata": {
    "collapsed": false
   },
   "outputs": [],
   "source": [
    "ifit = \"/\"\n",
    "if ifit == 0:\n",
    "    print(\"NO\")\n",
    "elif ifit == \"+\":\n",
    "    print(\"NO\")\n",
    "elif ifit == \"/\":\n",
    "    print(\"YA\")"
   ]
  },
  {
   "cell_type": "code",
   "execution_count": 85,
   "metadata": {
    "collapsed": false
   },
   "outputs": [
    {
     "data": {
      "text/plain": [
       "Decimal('90.30000000000000426325641456')"
      ]
     },
     "execution_count": 85,
     "metadata": {},
     "output_type": "execute_result"
    }
   ],
   "source": [
    "d('90.30000000000000426325641456')"
   ]
  }
 ],
 "metadata": {
  "kernelspec": {
   "display_name": "Python 3",
   "language": "python",
   "name": "python3"
  },
  "language_info": {
   "codemirror_mode": {
    "name": "ipython",
    "version": 3
   },
   "file_extension": ".py",
   "mimetype": "text/x-python",
   "name": "python",
   "nbconvert_exporter": "python",
   "pygments_lexer": "ipython3",
   "version": "3.5.1"
  }
 },
 "nbformat": 4,
 "nbformat_minor": 0
}
