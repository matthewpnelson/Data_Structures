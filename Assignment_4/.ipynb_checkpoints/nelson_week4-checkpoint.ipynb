{
 "cells": [
  {
   "cell_type": "code",
   "execution_count": 1,
   "metadata": {
    "collapsed": false
   },
   "outputs": [],
   "source": [
    "import operator\n",
    "import decimal\n",
    "import string\n",
    "\n",
    "\n",
    "class ArrayStack:\n",
    "    \"\"\"LIFO Stack implementation using a Python list as underlying storage.\"\"\"\n",
    "\n",
    "    def __init__(self):\n",
    "        self._data = []                 # nonpublic list instance\n",
    "\n",
    "    def len(self):\n",
    "        \"\"\"Return the number of elements in the stack.\"\"\"\n",
    "        return len(self._data)\n",
    "\n",
    "    def is_empty(self):\n",
    "        \"\"\"Return True if the stack is empty.\"\"\"\n",
    "        return len(self._data) == 0\n",
    "\n",
    "    def push(self,e):\n",
    "        \"\"\"Add element e to the top of the stack.\"\"\"\n",
    "        self._data.append(e)            # new item stored at end of list\n",
    "\n",
    "    def top(self):\n",
    "        \"\"\"Return (but do not remove) the element at the top of the stack.\n",
    "           Raise Empty exception if the stack is empty.\n",
    "        \"\"\"\n",
    "\n",
    "        if self.is_empty():\n",
    "            raise Empty('Stack is empty')\n",
    "        return self._data[-1]           # the last item in the list\n",
    "\n",
    "    def pop(self):\n",
    "        \"\"\"Remove and return the element from the top of the stack (i.e., LIFO).\n",
    "           Raise Empty exception if the stack is empty.\n",
    "        \"\"\"\n",
    "        if self.is_empty():\n",
    "            raise Empty('Stack is empty')\n",
    "        return self._data.pop()         # remove last item from list\n",
    "\n",
    "\n",
    "class Empty(Exception):\n",
    "    \"\"\"Error attempting to access an element from an empty container.\"\"\"\n",
    "    pass\n"
   ]
  },
  {
   "cell_type": "code",
   "execution_count": 33,
   "metadata": {
    "collapsed": false
   },
   "outputs": [],
   "source": [
    "test = \"5 2 + 8 3 - * 4 / \"\n",
    "\n",
    "\n",
    "\n",
    "\n",
    "\n",
    "\n",
    "\n",
    "\n",
    "#def eval_postfix(x):\n",
    "    \n",
    "\n"
   ]
  },
  {
   "cell_type": "code",
   "execution_count": null,
   "metadata": {
    "collapsed": true
   },
   "outputs": [],
   "source": [
    "def postfix(filename):\n",
    "    \"\"\"Opens a .txt file with postfix notation, evaluates each line, and writes to a file named 'output.txt'.\"\"\"\n",
    "    with open(filename, 'r') as f_in:  \n",
    "        out = \"\"\n",
    "        for r in f_in.readlines():\n",
    "            out += str(eval_postfix(r)) + \"/n\" \n",
    "    with open(\"matt_output.txt\", 'w') as f_out:\n",
    "        f_out.write(out)"
   ]
  },
  {
   "cell_type": "code",
   "execution_count": null,
   "metadata": {
    "collapsed": false
   },
   "outputs": [],
   "source": [
    "import_postfix(\"postfix_example_files/matt_input.txt\")"
   ]
  },
  {
   "cell_type": "code",
   "execution_count": 34,
   "metadata": {
    "collapsed": false
   },
   "outputs": [],
   "source": [
    "\n",
    "def convert(test):\n",
    "    test2 = test.split()\n",
    "    stack_out = ArrayStack()\n",
    "    \n",
    "    #reverse the order of operations from the input file so the first number is at the top of the stack\n",
    "    i = len(test2)-1\n",
    "    while i >= 0:\n",
    "        stack_out.push(test2[i])\n",
    "        i -= 1\n",
    "    return stack_out\n"
   ]
  },
  {
   "cell_type": "code",
   "execution_count": null,
   "metadata": {
    "collapsed": true
   },
   "outputs": [],
   "source": [
    "def eval_postfix(stack):\n",
    "    current == None\n",
    "    nums = []\n",
    "    op = None\n",
    "    running_result = ArrayStack()\n",
    "\n",
    "    while current is not Empty:\n",
    "        current = stack.pop()\n",
    "        \n",
    "            \n",
    "            \n",
    "            #select first numbers up to the first operator in the stack\n",
    "            if running_result == None:\n",
    "                try:\n",
    "                    if nums == []:\n",
    "                        nums.append(int(current))\n",
    "                        continue\n",
    "                    else:\n",
    "                        nums.append(int(current))\n",
    "                        continue\n",
    "                except:\n",
    "                    op = current        \n",
    "        \n",
    "            else:\n",
    "                \n",
    "        while len(nums > 1):\n",
    "            if op == \"+\":\n",
    "                nums[0] = operator.add(nums[0], nums[1])\n",
    "                nums.pop(1)\n",
    "                \n",
    "            elif op == \"-\":\n",
    "                running_result.push(operator.sub(nums[0], nums[1]))\n",
    "                nums.pop(0)\n",
    "            elif op == \"*\":\n",
    "                running_result.push(operator.mul(nums[0], nums[1]))\n",
    "                nums.pop(0)\n",
    "            elif op == \"/\":\n",
    "                running_result.push(operator.truediv(nums[0], nums[1]))\n",
    "                nums.pop(0)\n",
    "            stack_results.push(running_result)\n",
    "            \n",
    "            \n",
    "        "
   ]
  },
  {
   "cell_type": "code",
   "execution_count": 46,
   "metadata": {
    "collapsed": false
   },
   "outputs": [
    {
     "name": "stdout",
     "output_type": "stream",
     "text": [
      "<class 'str'>\n",
      "<class 'str'>\n",
      "<class 'str'>\n",
      "<class 'str'>\n",
      "<class 'str'>\n"
     ]
    }
   ],
   "source": [
    "no1 = convert(test)\n",
    "print(type(no1.pop()))\n",
    "print(type(no1.pop()))\n",
    "print(type(no1.pop()))\n",
    "print(type(no1.pop()))\n",
    "print(type(no1.pop()))"
   ]
  },
  {
   "cell_type": "code",
   "execution_count": null,
   "metadata": {
    "collapsed": true
   },
   "outputs": [],
   "source": []
  }
 ],
 "metadata": {
  "kernelspec": {
   "display_name": "Python 3",
   "language": "python",
   "name": "python3"
  },
  "language_info": {
   "codemirror_mode": {
    "name": "ipython",
    "version": 3
   },
   "file_extension": ".py",
   "mimetype": "text/x-python",
   "name": "python",
   "nbconvert_exporter": "python",
   "pygments_lexer": "ipython3",
   "version": "3.5.1"
  }
 },
 "nbformat": 4,
 "nbformat_minor": 0
}
