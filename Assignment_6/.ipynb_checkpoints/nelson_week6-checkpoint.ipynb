{
 "cells": [
  {
   "cell_type": "code",
   "execution_count": 7,
   "metadata": {
    "collapsed": false
   },
   "outputs": [],
   "source": [
    "class MyTable:\n",
    "    \n",
    "    def __init__(self, size):\n",
    "        \n",
    "        self.size = size\n",
    "        self.keys = [None for each in range(int(size))]\n",
    "        self.values = [None for each in range(int(size))]\n",
    "        \n",
    "     \n",
    "    def general_hash(self, key):\n",
    "        hash_location = 0\n",
    "        for each in key:\n",
    "            hash_location += ord(each)\n",
    "        compressed_hash_index = hash_location % self.size\n",
    "        return compressed_hash_index        \n",
    "    \n",
    "    \n",
    "    def __setitem__(self, key, value):\n",
    "        hash_location = self.general_hash(key)\n",
    "        \n",
    "        # update a value if it exists\n",
    "        if self.__getitem__(key) != \"Key not in table.\":\n",
    "\n",
    "            if self.keys[hash_location] == str(key):\n",
    "                self.values[hash_location] = value\n",
    "            else: # begin linear probing\n",
    "\n",
    "                # Starting at the end of the list? If so, roll back to the start.\n",
    "                current_location = hash_location\n",
    "                if current_location == self.size-1:\n",
    "                    current_location = 0 #roll back to the start of the list\n",
    "                else:\n",
    "                    current_location += 1\n",
    "\n",
    "                while self.keys[current_location] != str(key):\n",
    "                    if current_location == self.size-1:\n",
    "                        current_location = 0 #roll back to the start of the list\n",
    "                    else:\n",
    "                        current_location += 1\n",
    "                self.values[current_location] = value\n",
    "               \n",
    "        \n",
    "        # add in the new key-value pair\n",
    "        else:\n",
    "            # set a new value\n",
    "            if self.keys[hash_location] == None:\n",
    "                self.keys[hash_location] = str(key)\n",
    "                self.values[hash_location] = value\n",
    "\n",
    "            else: # begin linear probing\n",
    "\n",
    "                # Starting at the end of the list? If so, roll back to the start.\n",
    "                current_location = hash_location\n",
    "                if current_location == self.size-1:\n",
    "                    current_location = 0 #roll back to the start of the list\n",
    "                else:\n",
    "                    current_location += 1\n",
    "\n",
    "                # are we just updating the value for an existing key?\n",
    "                if self.keys[current_location] == str(key):\n",
    "                    self.values[current_location] = value            \n",
    "\n",
    "                else:\n",
    "                    while self.keys[current_location] is not None and self.keys[current_location] != 'deleted':\n",
    "                        # are we just updating the value for an existing key?\n",
    "                        if self.keys[current_location] == str(key):\n",
    "                            self.values[current_location] = value\n",
    "                            break\n",
    "                        elif current_location == self.size-1:\n",
    "                            current_location = 0 #roll back to the start of the list\n",
    "                        else:\n",
    "                            current_location += 1\n",
    "\n",
    "                    # Set Key and Value @ Current Location                \n",
    "                    self.keys[current_location] = str(key)\n",
    "                    self.values[current_location] = value            \n",
    "                    \n",
    "    \n",
    "    def __getitem__(self, key):\n",
    "        hash_location = self.general_hash(key)\n",
    "        \n",
    "        if self.keys[hash_location] == str(key):\n",
    "            return self.values[hash_location]\n",
    "        else: # begin linear probing\n",
    "            \n",
    "            # use a count to track how many hash locations have been checked & stop if full table is searched with no result\n",
    "            index_count = 1\n",
    "            \n",
    "            # Starting at the end of the list? If so, roll back to the start.\n",
    "            current_location = hash_location\n",
    "            if current_location == self.size-1:\n",
    "                current_location = 0 #roll back to the start of the list\n",
    "                index_count += 1\n",
    "            else:\n",
    "                current_location += 1\n",
    "                index_count += 1\n",
    "                \n",
    "            while self.keys[current_location] != str(key):\n",
    "                if index_count >= self.size:\n",
    "                    return \"Key not in table.\"\n",
    "                if current_location == self.size-1:\n",
    "                    current_location = 0 #roll back to the start of the list\n",
    "                    index_count += 1\n",
    "                else:\n",
    "                    current_location += 1\n",
    "                    index_count += 1\n",
    "            \n",
    "            return self.values[current_location]\n",
    "        \n",
    "    \n",
    "    def __delitem__(self, key):\n",
    "        hash_location = self.general_hash(key)\n",
    "        \n",
    "        if self.keys[hash_location] == str(key):\n",
    "            self.keys[hash_location] = 'deleted'\n",
    "            self.values[hash_location] = 'deleted'\n",
    "        \n",
    "        else: # begin linear probing\n",
    "            \n",
    "            # Starting at the end of the list? If so, roll back to the start.\n",
    "            current_location = hash_location\n",
    "            if current_location == self.size-1:\n",
    "                current_location = 0 #roll back to the start of the list\n",
    "            else:\n",
    "                current_location += 1\n",
    "                \n",
    "            while self.keys[current_location] != str(key):\n",
    "                if current_location == self.size-1:\n",
    "                    current_location = 0 #roll back to the start of the list\n",
    "                else:\n",
    "                    current_location += 1\n",
    "            self.keys[current_location] = 'deleted'\n",
    "            self.values[current_location] = 'deleted'\n",
    "        "
   ]
  },
  {
   "cell_type": "code",
   "execution_count": 8,
   "metadata": {
    "collapsed": false
   },
   "outputs": [
    {
     "name": "stdout",
     "output_type": "stream",
     "text": [
      "Current keys in m: [None, None, 'a', 'f', 'k']\n"
     ]
    }
   ],
   "source": [
    "# TEST 1\n",
    "\n",
    "m = MyTable(5)\n",
    "# The following keys all hash to the same index.\n",
    "m[\"a\"] = \"apple\"\n",
    "m[\"f\"] = \"butter\" \n",
    "m[\"k\"] = \"yummy\"\n",
    "print(\"Current keys in m:\", m.keys)"
   ]
  },
  {
   "cell_type": "code",
   "execution_count": 9,
   "metadata": {
    "collapsed": false
   },
   "outputs": [
    {
     "name": "stdout",
     "output_type": "stream",
     "text": [
      "m['p']: Key not in table.\n"
     ]
    }
   ],
   "source": [
    "# TEST 2\n",
    "\n",
    "# \"p\" also hashes to the same place.\n",
    "# Your class should detect that it's not in the table\n",
    "# without scanning through the entire keys list.\n",
    "print(\"m['p']:\", m[\"p\"])"
   ]
  },
  {
   "cell_type": "code",
   "execution_count": 10,
   "metadata": {
    "collapsed": false
   },
   "outputs": [
    {
     "name": "stdout",
     "output_type": "stream",
     "text": [
      "m['k']: yummy\n",
      "m['k']: yummy\n",
      "Current keys in m: [None, None, 'a', 'deleted', 'k']\n"
     ]
    }
   ],
   "source": [
    "# TEST 3\n",
    "\n",
    "# We can access key \"k\"\n",
    "print(\"m['k']:\", m[\"k\"])\n",
    "# Even if we remove \"f\"\n",
    "del m[\"f\"]\n",
    "print(\"m['k']:\", m[\"k\"])\n",
    "print(\"Current keys in m:\", m.keys)"
   ]
  },
  {
   "cell_type": "code",
   "execution_count": 11,
   "metadata": {
    "collapsed": false
   },
   "outputs": [
    {
     "name": "stdout",
     "output_type": "stream",
     "text": [
      "Current keys in m: [None, None, 'a', 'deleted', 'k']\n",
      "Current values in m: [None, None, 'apple', 'deleted', 'newstuff']\n"
     ]
    }
   ],
   "source": [
    "# TEST 4\n",
    "\n",
    "# Even after removing \"f\", we can overwrite \"k\"\n",
    "m[\"k\"] = \"newstuff\"\n",
    "print(\"Current keys in m:\", m.keys)\n",
    "print(\"Current values in m:\", m.values)"
   ]
  },
  {
   "cell_type": "code",
   "execution_count": 15,
   "metadata": {
    "collapsed": false
   },
   "outputs": [
    {
     "name": "stdout",
     "output_type": "stream",
     "text": [
      "Current keys in m: [None, None, 'a', 'f', 'k']\n"
     ]
    }
   ],
   "source": [
    "# TEST 5\n",
    "\n",
    "# Add in item f again. It should take over the 'deleted' spot where it had previously resided since this spot is now open again.\n",
    "m[\"f\"] = \"butter\"\n",
    "print(\"Current keys in m:\", m.keys)"
   ]
  },
  {
   "cell_type": "code",
   "execution_count": null,
   "metadata": {
    "collapsed": true
   },
   "outputs": [],
   "source": []
  }
 ],
 "metadata": {
  "kernelspec": {
   "display_name": "Python 3",
   "language": "python",
   "name": "python3"
  },
  "language_info": {
   "codemirror_mode": {
    "name": "ipython",
    "version": 3
   },
   "file_extension": ".py",
   "mimetype": "text/x-python",
   "name": "python",
   "nbconvert_exporter": "python",
   "pygments_lexer": "ipython3",
   "version": "3.5.1"
  }
 },
 "nbformat": 4,
 "nbformat_minor": 0
}
